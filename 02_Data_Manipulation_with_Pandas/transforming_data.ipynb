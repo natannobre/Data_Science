{
 "metadata": {
  "language_info": {
   "codemirror_mode": {
    "name": "ipython",
    "version": 3
   },
   "file_extension": ".py",
   "mimetype": "text/x-python",
   "name": "python",
   "nbconvert_exporter": "python",
   "pygments_lexer": "ipython3",
   "version": "3.8.5"
  },
  "orig_nbformat": 2,
  "kernelspec": {
   "name": "python385jvsc74a57bd06a9d193666e13d3b25b51d102bf5ec435779a8e8c05a2ee5783b187e30809c30",
   "display_name": "Python 3.8.5 64-bit ('DataScience': conda)"
  }
 },
 "nbformat": 4,
 "nbformat_minor": 2,
 "cells": [
  {
   "cell_type": "code",
   "execution_count": 28,
   "metadata": {},
   "outputs": [],
   "source": [
    "import pandas as pd"
   ]
  },
  {
   "cell_type": "code",
   "execution_count": 29,
   "metadata": {},
   "outputs": [],
   "source": [
    "homelessness = pd.read_csv(\"datasets/homelessness.csv\")"
   ]
  },
  {
   "cell_type": "code",
   "execution_count": 30,
   "metadata": {},
   "outputs": [
    {
     "output_type": "stream",
     "name": "stdout",
     "text": [
      "   Unnamed: 0              region       state  individuals  family_members  \\\n0           0  East South Central     Alabama       2570.0           864.0   \n1           1             Pacific      Alaska       1434.0           582.0   \n2           2            Mountain     Arizona       7259.0          2606.0   \n3           3  West South Central    Arkansas       2280.0           432.0   \n4           4             Pacific  California     109008.0         20964.0   \n\n   state_pop  \n0    4887681  \n1     735139  \n2    7158024  \n3    3009733  \n4   39461588  \n"
     ]
    }
   ],
   "source": [
    "# Print the head of the homelessness data\n",
    "print(homelessness.head())"
   ]
  },
  {
   "cell_type": "code",
   "execution_count": 31,
   "metadata": {},
   "outputs": [
    {
     "output_type": "stream",
     "name": "stdout",
     "text": [
      "[[0 'East South Central' 'Alabama' 2570.0 864.0 4887681]\n [1 'Pacific' 'Alaska' 1434.0 582.0 735139]\n [2 'Mountain' 'Arizona' 7259.0 2606.0 7158024]\n [3 'West South Central' 'Arkansas' 2280.0 432.0 3009733]\n [4 'Pacific' 'California' 109008.0 20964.0 39461588]\n [5 'Mountain' 'Colorado' 7607.0 3250.0 5691287]\n [6 'New England' 'Connecticut' 2280.0 1696.0 3571520]\n [7 'South Atlantic' 'Delaware' 708.0 374.0 965479]\n [8 'South Atlantic' 'District of Columbia' 3770.0 3134.0 701547]\n [9 'South Atlantic' 'Florida' 21443.0 9587.0 21244317]\n [10 'South Atlantic' 'Georgia' 6943.0 2556.0 10511131]\n [11 'Pacific' 'Hawaii' 4131.0 2399.0 1420593]\n [12 'Mountain' 'Idaho' 1297.0 715.0 1750536]\n [13 'East North Central' 'Illinois' 6752.0 3891.0 12723071]\n [14 'East North Central' 'Indiana' 3776.0 1482.0 6695497]\n [15 'West North Central' 'Iowa' 1711.0 1038.0 3148618]\n [16 'West North Central' 'Kansas' 1443.0 773.0 2911359]\n [17 'East South Central' 'Kentucky' 2735.0 953.0 4461153]\n [18 'West South Central' 'Louisiana' 2540.0 519.0 4659690]\n [19 'New England' 'Maine' 1450.0 1066.0 1339057]\n [20 'South Atlantic' 'Maryland' 4914.0 2230.0 6035802]\n [21 'New England' 'Massachusetts' 6811.0 13257.0 6882635]\n [22 'East North Central' 'Michigan' 5209.0 3142.0 9984072]\n [23 'West North Central' 'Minnesota' 3993.0 3250.0 5606249]\n [24 'East South Central' 'Mississippi' 1024.0 328.0 2981020]\n [25 'West North Central' 'Missouri' 3776.0 2107.0 6121623]\n [26 'Mountain' 'Montana' 983.0 422.0 1060665]\n [27 'West North Central' 'Nebraska' 1745.0 676.0 1925614]\n [28 'Mountain' 'Nevada' 7058.0 486.0 3027341]\n [29 'New England' 'New Hampshire' 835.0 615.0 1353465]\n [30 'Mid-Atlantic' 'New Jersey' 6048.0 3350.0 8886025]\n [31 'Mountain' 'New Mexico' 1949.0 602.0 2092741]\n [32 'Mid-Atlantic' 'New York' 39827.0 52070.0 19530351]\n [33 'South Atlantic' 'North Carolina' 6451.0 2817.0 10381615]\n [34 'West North Central' 'North Dakota' 467.0 75.0 758080]\n [35 'East North Central' 'Ohio' 6929.0 3320.0 11676341]\n [36 'West South Central' 'Oklahoma' 2823.0 1048.0 3940235]\n [37 'Pacific' 'Oregon' 11139.0 3337.0 4181886]\n [38 'Mid-Atlantic' 'Pennsylvania' 8163.0 5349.0 12800922]\n [39 'New England' 'Rhode Island' 747.0 354.0 1058287]\n [40 'South Atlantic' 'South Carolina' 3082.0 851.0 5084156]\n [41 'West North Central' 'South Dakota' 836.0 323.0 878698]\n [42 'East South Central' 'Tennessee' 6139.0 1744.0 6771631]\n [43 'West South Central' 'Texas' 19199.0 6111.0 28628666]\n [44 'Mountain' 'Utah' 1904.0 972.0 3153550]\n [45 'New England' 'Vermont' 780.0 511.0 624358]\n [46 'South Atlantic' 'Virginia' 3928.0 2047.0 8501286]\n [47 'Pacific' 'Washington' 16424.0 5880.0 7523869]\n [48 'South Atlantic' 'West Virginia' 1021.0 222.0 1804291]\n [49 'East North Central' 'Wisconsin' 2740.0 2167.0 5807406]\n [50 'Mountain' 'Wyoming' 434.0 205.0 577601]]\nIndex(['Unnamed: 0', 'region', 'state', 'individuals', 'family_members',\n       'state_pop'],\n      dtype='object')\nRangeIndex(start=0, stop=51, step=1)\n"
     ]
    }
   ],
   "source": [
    "# Print the values of homelessness\n",
    "print(homelessness.values)\n",
    "\n",
    "# Print the column index of homelessness\n",
    "print(homelessness.columns)\n",
    "\n",
    "# Print the row index of homelessness\n",
    "print(homelessness.index)"
   ]
  },
  {
   "cell_type": "code",
   "execution_count": 32,
   "metadata": {},
   "outputs": [
    {
     "output_type": "stream",
     "name": "stdout",
     "text": [
      "    Unnamed: 0              region         state  individuals  family_members  \\\n50          50            Mountain       Wyoming        434.0           205.0   \n34          34  West North Central  North Dakota        467.0            75.0   \n7            7      South Atlantic      Delaware        708.0           374.0   \n39          39         New England  Rhode Island        747.0           354.0   \n45          45         New England       Vermont        780.0           511.0   \n\n    state_pop  \n50     577601  \n34     758080  \n7      965479  \n39    1058287  \n45     624358  \n"
     ]
    }
   ],
   "source": [
    "# Sort homelessness by individual\n",
    "homelessness_ind = homelessness.sort_values('individuals')\n",
    "\n",
    "# Print the top few rows\n",
    "print(homelessness_ind.head())"
   ]
  },
  {
   "cell_type": "code",
   "execution_count": 33,
   "metadata": {},
   "outputs": [
    {
     "output_type": "stream",
     "name": "stdout",
     "text": [
      "0      2570.0\n1      1434.0\n2      7259.0\n3      2280.0\n4    109008.0\nName: individuals, dtype: float64\n"
     ]
    }
   ],
   "source": [
    "# Select the individuals column\n",
    "individuals = homelessness['individuals']\n",
    "\n",
    "# Print the head of the result\n",
    "print(individuals.head())"
   ]
  },
  {
   "cell_type": "code",
   "execution_count": 34,
   "metadata": {},
   "outputs": [
    {
     "output_type": "stream",
     "name": "stdout",
     "text": [
      "    Unnamed: 0              region       state  individuals  family_members  \\\n4            4             Pacific  California     109008.0         20964.0   \n9            9      South Atlantic     Florida      21443.0          9587.0   \n32          32        Mid-Atlantic    New York      39827.0         52070.0   \n37          37             Pacific      Oregon      11139.0          3337.0   \n43          43  West South Central       Texas      19199.0          6111.0   \n47          47             Pacific  Washington      16424.0          5880.0   \n\n    state_pop  \n4    39461588  \n9    21244317  \n32   19530351  \n37    4181886  \n43   28628666  \n47    7523869  \n"
     ]
    }
   ],
   "source": [
    "# Filter for rows where individuals is greater than 10000\n",
    "ind_gt_10k = homelessness[homelessness[\"individuals\"] > 10000]\n",
    "\n",
    "# See the result\n",
    "print(ind_gt_10k)"
   ]
  },
  {
   "cell_type": "code",
   "execution_count": 35,
   "metadata": {},
   "outputs": [
    {
     "output_type": "stream",
     "name": "stdout",
     "text": [
      "    Unnamed: 0          region                 state  individuals  \\\n7            7  South Atlantic              Delaware        708.0   \n8            8  South Atlantic  District of Columbia       3770.0   \n9            9  South Atlantic               Florida      21443.0   \n10          10  South Atlantic               Georgia       6943.0   \n20          20  South Atlantic              Maryland       4914.0   \n30          30    Mid-Atlantic            New Jersey       6048.0   \n32          32    Mid-Atlantic              New York      39827.0   \n33          33  South Atlantic        North Carolina       6451.0   \n38          38    Mid-Atlantic          Pennsylvania       8163.0   \n40          40  South Atlantic        South Carolina       3082.0   \n46          46  South Atlantic              Virginia       3928.0   \n48          48  South Atlantic         West Virginia       1021.0   \n\n    family_members  state_pop  \n7            374.0     965479  \n8           3134.0     701547  \n9           9587.0   21244317  \n10          2556.0   10511131  \n20          2230.0    6035802  \n30          3350.0    8886025  \n32         52070.0   19530351  \n33          2817.0   10381615  \n38          5349.0   12800922  \n40           851.0    5084156  \n46          2047.0    8501286  \n48           222.0    1804291  \n"
     ]
    }
   ],
   "source": [
    "# Subset for rows in South Atlantic or Mid-Atlantic regions\n",
    "south_mid_atlantic = homelessness[(homelessness['region'] == 'South Atlantic') | (homelessness['region'] == 'Mid-Atlantic')]\n",
    "\n",
    "\n",
    "# See the result\n",
    "print(south_mid_atlantic)"
   ]
  },
  {
   "cell_type": "code",
   "execution_count": 36,
   "metadata": {},
   "outputs": [
    {
     "output_type": "stream",
     "name": "stdout",
     "text": [
      "    Unnamed: 0              region                 state  individuals  \\\n0            0  East South Central               Alabama       2570.0   \n1            1             Pacific                Alaska       1434.0   \n2            2            Mountain               Arizona       7259.0   \n3            3  West South Central              Arkansas       2280.0   \n4            4             Pacific            California     109008.0   \n5            5            Mountain              Colorado       7607.0   \n6            6         New England           Connecticut       2280.0   \n7            7      South Atlantic              Delaware        708.0   \n8            8      South Atlantic  District of Columbia       3770.0   \n9            9      South Atlantic               Florida      21443.0   \n10          10      South Atlantic               Georgia       6943.0   \n11          11             Pacific                Hawaii       4131.0   \n12          12            Mountain                 Idaho       1297.0   \n13          13  East North Central              Illinois       6752.0   \n14          14  East North Central               Indiana       3776.0   \n15          15  West North Central                  Iowa       1711.0   \n16          16  West North Central                Kansas       1443.0   \n17          17  East South Central              Kentucky       2735.0   \n18          18  West South Central             Louisiana       2540.0   \n19          19         New England                 Maine       1450.0   \n20          20      South Atlantic              Maryland       4914.0   \n21          21         New England         Massachusetts       6811.0   \n22          22  East North Central              Michigan       5209.0   \n23          23  West North Central             Minnesota       3993.0   \n24          24  East South Central           Mississippi       1024.0   \n25          25  West North Central              Missouri       3776.0   \n26          26            Mountain               Montana        983.0   \n27          27  West North Central              Nebraska       1745.0   \n28          28            Mountain                Nevada       7058.0   \n29          29         New England         New Hampshire        835.0   \n30          30        Mid-Atlantic            New Jersey       6048.0   \n31          31            Mountain            New Mexico       1949.0   \n32          32        Mid-Atlantic              New York      39827.0   \n33          33      South Atlantic        North Carolina       6451.0   \n34          34  West North Central          North Dakota        467.0   \n35          35  East North Central                  Ohio       6929.0   \n36          36  West South Central              Oklahoma       2823.0   \n37          37             Pacific                Oregon      11139.0   \n38          38        Mid-Atlantic          Pennsylvania       8163.0   \n39          39         New England          Rhode Island        747.0   \n40          40      South Atlantic        South Carolina       3082.0   \n41          41  West North Central          South Dakota        836.0   \n42          42  East South Central             Tennessee       6139.0   \n43          43  West South Central                 Texas      19199.0   \n44          44            Mountain                  Utah       1904.0   \n45          45         New England               Vermont        780.0   \n46          46      South Atlantic              Virginia       3928.0   \n47          47             Pacific            Washington      16424.0   \n48          48      South Atlantic         West Virginia       1021.0   \n49          49  East North Central             Wisconsin       2740.0   \n50          50            Mountain               Wyoming        434.0   \n\n    family_members  state_pop     total  p_individuals  \n0            864.0    4887681    3434.0       0.748398  \n1            582.0     735139    2016.0       0.711310  \n2           2606.0    7158024    9865.0       0.735834  \n3            432.0    3009733    2712.0       0.840708  \n4          20964.0   39461588  129972.0       0.838704  \n5           3250.0    5691287   10857.0       0.700654  \n6           1696.0    3571520    3976.0       0.573441  \n7            374.0     965479    1082.0       0.654344  \n8           3134.0     701547    6904.0       0.546060  \n9           9587.0   21244317   31030.0       0.691041  \n10          2556.0   10511131    9499.0       0.730919  \n11          2399.0    1420593    6530.0       0.632619  \n12           715.0    1750536    2012.0       0.644632  \n13          3891.0   12723071   10643.0       0.634408  \n14          1482.0    6695497    5258.0       0.718144  \n15          1038.0    3148618    2749.0       0.622408  \n16           773.0    2911359    2216.0       0.651173  \n17           953.0    4461153    3688.0       0.741594  \n18           519.0    4659690    3059.0       0.830337  \n19          1066.0    1339057    2516.0       0.576312  \n20          2230.0    6035802    7144.0       0.687850  \n21         13257.0    6882635   20068.0       0.339396  \n22          3142.0    9984072    8351.0       0.623758  \n23          3250.0    5606249    7243.0       0.551291  \n24           328.0    2981020    1352.0       0.757396  \n25          2107.0    6121623    5883.0       0.641849  \n26           422.0    1060665    1405.0       0.699644  \n27           676.0    1925614    2421.0       0.720777  \n28           486.0    3027341    7544.0       0.935578  \n29           615.0    1353465    1450.0       0.575862  \n30          3350.0    8886025    9398.0       0.643541  \n31           602.0    2092741    2551.0       0.764014  \n32         52070.0   19530351   91897.0       0.433387  \n33          2817.0   10381615    9268.0       0.696051  \n34            75.0     758080     542.0       0.861624  \n35          3320.0   11676341   10249.0       0.676066  \n36          1048.0    3940235    3871.0       0.729269  \n37          3337.0    4181886   14476.0       0.769481  \n38          5349.0   12800922   13512.0       0.604130  \n39           354.0    1058287    1101.0       0.678474  \n40           851.0    5084156    3933.0       0.783626  \n41           323.0     878698    1159.0       0.721311  \n42          1744.0    6771631    7883.0       0.778764  \n43          6111.0   28628666   25310.0       0.758554  \n44           972.0    3153550    2876.0       0.662031  \n45           511.0     624358    1291.0       0.604183  \n46          2047.0    8501286    5975.0       0.657406  \n47          5880.0    7523869   22304.0       0.736370  \n48           222.0    1804291    1243.0       0.821400  \n49          2167.0    5807406    4907.0       0.558386  \n50           205.0     577601     639.0       0.679186  \n"
     ]
    }
   ],
   "source": [
    "# Add total col as sum of individuals and family_members\n",
    "homelessness[\"total\"] = homelessness[\"individuals\"] + homelessness[\"family_members\"]\n",
    "\n",
    "# Add p_individuals col as proportion of individuals\n",
    "homelessness[\"p_individuals\"] = homelessness[\"individuals\"] / homelessness[\"total\"]\n",
    "\n",
    "# See the result\n",
    "print(homelessness)"
   ]
  },
  {
   "cell_type": "code",
   "execution_count": 37,
   "metadata": {},
   "outputs": [
    {
     "output_type": "stream",
     "name": "stdout",
     "text": [
      "                   state  indiv_per_10k\n8   District of Columbia      53.738381\n11                Hawaii      29.079406\n4             California      27.623825\n37                Oregon      26.636307\n28                Nevada      23.314189\n47            Washington      21.829195\n32              New York      20.392363\n"
     ]
    }
   ],
   "source": [
    "# Create indiv_per_10k col as homeless individuals per 10k state pop\n",
    "homelessness[\"indiv_per_10k\"] = 10000 * homelessness[\"individuals\"] / homelessness[\"state_pop\"] \n",
    "\n",
    "# Subset rows for indiv_per_10k greater than 20\n",
    "high_homelessness = homelessness[homelessness[\"indiv_per_10k\"] > 20]\n",
    "\n",
    "# Sort high_homelessness by descending indiv_per_10k\n",
    "high_homelessness_srt = high_homelessness.sort_values(\"indiv_per_10k\", ascending=False)\n",
    "\n",
    "# From high_homelessness_srt, select the state and indiv_per_10k cols\n",
    "result = high_homelessness_srt[[\"state\", \"indiv_per_10k\"]]\n",
    "\n",
    "# See the result\n",
    "print(result)"
   ]
  }
 ]
}