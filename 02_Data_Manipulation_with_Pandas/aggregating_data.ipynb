{
 "metadata": {
  "language_info": {
   "codemirror_mode": {
    "name": "ipython",
    "version": 3
   },
   "file_extension": ".py",
   "mimetype": "text/x-python",
   "name": "python",
   "nbconvert_exporter": "python",
   "pygments_lexer": "ipython3",
   "version": "3.8.5"
  },
  "orig_nbformat": 2,
  "kernelspec": {
   "name": "python385jvsc74a57bd06a9d193666e13d3b25b51d102bf5ec435779a8e8c05a2ee5783b187e30809c30",
   "display_name": "Python 3.8.5 64-bit ('DataScience': conda)"
  }
 },
 "nbformat": 4,
 "nbformat_minor": 2,
 "cells": [
  {
   "cell_type": "code",
   "execution_count": 1,
   "metadata": {},
   "outputs": [],
   "source": [
    "import pandas as pd"
   ]
  },
  {
   "cell_type": "code",
   "execution_count": 2,
   "metadata": {},
   "outputs": [],
   "source": [
    "sales = pd.read_csv(\"datasets/sales_subset.csv\")"
   ]
  },
  {
   "cell_type": "code",
   "execution_count": null,
   "metadata": {},
   "outputs": [],
   "source": [
    "# Print the head of the sales DataFrame\n",
    "print(sales.head())\n",
    "\n",
    "# Print the info about the sales DataFrame\n",
    "print(sales.info())\n",
    "\n",
    "# Print the mean of weekly_sales\n",
    "print(sales[\"weekly_sales\"].mean())\n",
    "\n",
    "# Print the median of weekly_sales\n",
    "print(sales[\"weekly_sales\"].median())"
   ]
  },
  {
   "cell_type": "code",
   "execution_count": 3,
   "metadata": {},
   "outputs": [
    {
     "output_type": "stream",
     "name": "stdout",
     "text": [
      "2012-10-26\n2010-02-05\n"
     ]
    }
   ],
   "source": [
    "# Print the maximum of the date column\n",
    "print(sales[\"date\"].max())\n",
    "\n",
    "# Print the minimum of the date column\n",
    "print(sales[\"date\"].min())"
   ]
  },
  {
   "cell_type": "code",
   "execution_count": 4,
   "metadata": {},
   "outputs": [
    {
     "output_type": "stream",
     "name": "stdout",
     "text": [
      "16.58333333333334\n"
     ]
    }
   ],
   "source": [
    "# A custom IQR function\n",
    "def iqr(column):\n",
    "    return column.quantile(0.75) - column.quantile(0.25)\n",
    "    \n",
    "# Print IQR of the temperature_c column\n",
    "print(sales['temperature_c'].agg(iqr))"
   ]
  },
  {
   "cell_type": "code",
   "execution_count": 5,
   "metadata": {},
   "outputs": [
    {
     "output_type": "execute_result",
     "data": {
      "text/plain": [
       "    Unnamed: 0  store type  department        date  weekly_sales  is_holiday  \\\n",
       "0            0      1    A           1  2010-02-05      24924.50       False   \n",
       "1            1      1    A           1  2010-03-05      21827.90       False   \n",
       "2            2      1    A           1  2010-04-02      57258.43       False   \n",
       "3            3      1    A           1  2010-05-07      17413.94       False   \n",
       "4            4      1    A           1  2010-06-04      17558.09       False   \n",
       "5            5      1    A           1  2010-07-02      16333.14       False   \n",
       "6            6      1    A           1  2010-08-06      17508.41       False   \n",
       "7            7      1    A           1  2010-09-03      16241.78       False   \n",
       "8            8      1    A           1  2010-10-01      20094.19       False   \n",
       "9            9      1    A           1  2010-11-05      34238.88       False   \n",
       "10          10      1    A           1  2010-12-03      22517.56       False   \n",
       "11          11      1    A           1  2011-01-07      15984.24       False   \n",
       "\n",
       "    temperature_c  fuel_price_usd_per_l  unemployment  \n",
       "0        5.727778              0.679451         8.106  \n",
       "1        8.055556              0.693452         8.106  \n",
       "2       16.816667              0.718284         7.808  \n",
       "3       22.527778              0.748928         7.808  \n",
       "4       27.050000              0.714586         7.808  \n",
       "5       27.172222              0.705076         7.787  \n",
       "6       30.644444              0.693980         7.787  \n",
       "7       27.338889              0.680772         7.787  \n",
       "8       22.161111              0.687640         7.838  \n",
       "9       14.855556              0.710359         7.838  \n",
       "10       9.594444              0.715378         7.838  \n",
       "11       9.038889              0.786176         7.742  "
      ],
      "text/html": "<div>\n<style scoped>\n    .dataframe tbody tr th:only-of-type {\n        vertical-align: middle;\n    }\n\n    .dataframe tbody tr th {\n        vertical-align: top;\n    }\n\n    .dataframe thead th {\n        text-align: right;\n    }\n</style>\n<table border=\"1\" class=\"dataframe\">\n  <thead>\n    <tr style=\"text-align: right;\">\n      <th></th>\n      <th>Unnamed: 0</th>\n      <th>store</th>\n      <th>type</th>\n      <th>department</th>\n      <th>date</th>\n      <th>weekly_sales</th>\n      <th>is_holiday</th>\n      <th>temperature_c</th>\n      <th>fuel_price_usd_per_l</th>\n      <th>unemployment</th>\n    </tr>\n  </thead>\n  <tbody>\n    <tr>\n      <th>0</th>\n      <td>0</td>\n      <td>1</td>\n      <td>A</td>\n      <td>1</td>\n      <td>2010-02-05</td>\n      <td>24924.50</td>\n      <td>False</td>\n      <td>5.727778</td>\n      <td>0.679451</td>\n      <td>8.106</td>\n    </tr>\n    <tr>\n      <th>1</th>\n      <td>1</td>\n      <td>1</td>\n      <td>A</td>\n      <td>1</td>\n      <td>2010-03-05</td>\n      <td>21827.90</td>\n      <td>False</td>\n      <td>8.055556</td>\n      <td>0.693452</td>\n      <td>8.106</td>\n    </tr>\n    <tr>\n      <th>2</th>\n      <td>2</td>\n      <td>1</td>\n      <td>A</td>\n      <td>1</td>\n      <td>2010-04-02</td>\n      <td>57258.43</td>\n      <td>False</td>\n      <td>16.816667</td>\n      <td>0.718284</td>\n      <td>7.808</td>\n    </tr>\n    <tr>\n      <th>3</th>\n      <td>3</td>\n      <td>1</td>\n      <td>A</td>\n      <td>1</td>\n      <td>2010-05-07</td>\n      <td>17413.94</td>\n      <td>False</td>\n      <td>22.527778</td>\n      <td>0.748928</td>\n      <td>7.808</td>\n    </tr>\n    <tr>\n      <th>4</th>\n      <td>4</td>\n      <td>1</td>\n      <td>A</td>\n      <td>1</td>\n      <td>2010-06-04</td>\n      <td>17558.09</td>\n      <td>False</td>\n      <td>27.050000</td>\n      <td>0.714586</td>\n      <td>7.808</td>\n    </tr>\n    <tr>\n      <th>5</th>\n      <td>5</td>\n      <td>1</td>\n      <td>A</td>\n      <td>1</td>\n      <td>2010-07-02</td>\n      <td>16333.14</td>\n      <td>False</td>\n      <td>27.172222</td>\n      <td>0.705076</td>\n      <td>7.787</td>\n    </tr>\n    <tr>\n      <th>6</th>\n      <td>6</td>\n      <td>1</td>\n      <td>A</td>\n      <td>1</td>\n      <td>2010-08-06</td>\n      <td>17508.41</td>\n      <td>False</td>\n      <td>30.644444</td>\n      <td>0.693980</td>\n      <td>7.787</td>\n    </tr>\n    <tr>\n      <th>7</th>\n      <td>7</td>\n      <td>1</td>\n      <td>A</td>\n      <td>1</td>\n      <td>2010-09-03</td>\n      <td>16241.78</td>\n      <td>False</td>\n      <td>27.338889</td>\n      <td>0.680772</td>\n      <td>7.787</td>\n    </tr>\n    <tr>\n      <th>8</th>\n      <td>8</td>\n      <td>1</td>\n      <td>A</td>\n      <td>1</td>\n      <td>2010-10-01</td>\n      <td>20094.19</td>\n      <td>False</td>\n      <td>22.161111</td>\n      <td>0.687640</td>\n      <td>7.838</td>\n    </tr>\n    <tr>\n      <th>9</th>\n      <td>9</td>\n      <td>1</td>\n      <td>A</td>\n      <td>1</td>\n      <td>2010-11-05</td>\n      <td>34238.88</td>\n      <td>False</td>\n      <td>14.855556</td>\n      <td>0.710359</td>\n      <td>7.838</td>\n    </tr>\n    <tr>\n      <th>10</th>\n      <td>10</td>\n      <td>1</td>\n      <td>A</td>\n      <td>1</td>\n      <td>2010-12-03</td>\n      <td>22517.56</td>\n      <td>False</td>\n      <td>9.594444</td>\n      <td>0.715378</td>\n      <td>7.838</td>\n    </tr>\n    <tr>\n      <th>11</th>\n      <td>11</td>\n      <td>1</td>\n      <td>A</td>\n      <td>1</td>\n      <td>2011-01-07</td>\n      <td>15984.24</td>\n      <td>False</td>\n      <td>9.038889</td>\n      <td>0.786176</td>\n      <td>7.742</td>\n    </tr>\n  </tbody>\n</table>\n</div>"
     },
     "metadata": {},
     "execution_count": 5
    }
   ],
   "source": [
    "sales_1_1 = sales[(sales[\"store\"] == 1) & (sales[\"department\"] == 1)]\n",
    "sales_1_1"
   ]
  },
  {
   "cell_type": "code",
   "execution_count": 6,
   "metadata": {},
   "outputs": [
    {
     "output_type": "stream",
     "name": "stdout",
     "text": [
      "          date  weekly_sales  cum_weekly_sales  cum_max_sales\n0   2010-02-05      24924.50          24924.50       24924.50\n1   2010-03-05      21827.90          46752.40       24924.50\n2   2010-04-02      57258.43         104010.83       57258.43\n3   2010-05-07      17413.94         121424.77       57258.43\n4   2010-06-04      17558.09         138982.86       57258.43\n5   2010-07-02      16333.14         155316.00       57258.43\n6   2010-08-06      17508.41         172824.41       57258.43\n7   2010-09-03      16241.78         189066.19       57258.43\n8   2010-10-01      20094.19         209160.38       57258.43\n9   2010-11-05      34238.88         243399.26       57258.43\n10  2010-12-03      22517.56         265916.82       57258.43\n11  2011-01-07      15984.24         281901.06       57258.43\n"
     ]
    }
   ],
   "source": [
    "# Sort sales_1_1 by date\n",
    "sales_1_1 = sales_1_1.sort_values('date')\n",
    "\n",
    "# Get the cumulative sum of weekly_sales, add as cum_weekly_sales col\n",
    "sales_1_1['cum_weekly_sales'] = sales['weekly_sales'].cumsum()\n",
    "\n",
    "# Get the cumulative max of weekly_sales, add as cum_max_sales col\n",
    "sales_1_1['cum_max_sales'] = sales['weekly_sales'].cummax()\n",
    "\n",
    "# See the columns you calculated\n",
    "print(sales_1_1[[\"date\", \"weekly_sales\", \"cum_weekly_sales\", \"cum_max_sales\"]])"
   ]
  },
  {
   "cell_type": "code",
   "execution_count": 7,
   "metadata": {},
   "outputs": [
    {
     "output_type": "stream",
     "name": "stdout",
     "text": [
      "      Unnamed: 0  store type  department        date  weekly_sales  \\\n0              0      1    A           1  2010-02-05      24924.50   \n901          901      2    A           1  2010-02-05      35034.06   \n1798        1798      4    A           1  2010-02-05      38724.42   \n2699        2699      6    A           1  2010-02-05      25619.00   \n3593        3593     10    B           1  2010-02-05      40212.84   \n\n      is_holiday  temperature_c  fuel_price_usd_per_l  unemployment  \n0          False       5.727778              0.679451         8.106  \n901        False       4.550000              0.679451         8.324  \n1798       False       6.533333              0.686319         8.623  \n2699       False       4.683333              0.679451         7.259  \n3593       False      12.411111              0.782478         9.765  \n    Unnamed: 0  store type  department        date  weekly_sales  is_holiday  \\\n0            0      1    A           1  2010-02-05      24924.50       False   \n12          12      1    A           2  2010-02-05      50605.27       False   \n24          24      1    A           3  2010-02-05      13740.12       False   \n36          36      1    A           4  2010-02-05      39954.04       False   \n48          48      1    A           5  2010-02-05      32229.38       False   \n\n    temperature_c  fuel_price_usd_per_l  unemployment  \n0        5.727778              0.679451         8.106  \n12       5.727778              0.679451         8.106  \n24       5.727778              0.679451         8.106  \n36       5.727778              0.679451         8.106  \n48       5.727778              0.679451         8.106  \n      Unnamed: 0  store type  department        date  weekly_sales  \\\n498          498      1    A          45  2010-09-10         11.47   \n691          691      1    A          77  2011-11-25       1431.00   \n2315        2315      4    A          47  2010-02-12        498.00   \n6735        6735     19    A          39  2012-09-07         13.41   \n6810        6810     19    A          47  2010-12-31       -449.00   \n6815        6815     19    A          47  2012-02-10         15.00   \n6820        6820     19    A          48  2011-09-09        197.00   \n\n      is_holiday  temperature_c  fuel_price_usd_per_l  unemployment  \n498         True      25.938889              0.677602         7.787  \n691         True      15.633333              0.854861         7.866  \n2315        True      -1.755556              0.679715         8.623  \n6735        True      22.333333              1.076766         8.193  \n6810        True      -1.861111              0.881278         8.067  \n6815        True       0.338889              1.010723         7.943  \n6820        True      20.155556              1.038197         7.806  \n"
     ]
    }
   ],
   "source": [
    "# Drop duplicate store/type combinations\n",
    "store_types = sales.drop_duplicates(['store', 'type'])\n",
    "print(store_types.head())\n",
    "\n",
    "# Drop duplicate store/department combinations\n",
    "store_depts = sales.drop_duplicates(['store', 'department'])\n",
    "print(store_depts.head())\n",
    "\n",
    "# Subset the rows where is_holiday is True and drop duplicate dates\n",
    "holiday_dates = sales[sales['is_holiday']].drop_duplicates('date')\n",
    "\n",
    "# Print date col of holiday_dates\n",
    "print(holiday_dates)"
   ]
  },
  {
   "cell_type": "code",
   "execution_count": 8,
   "metadata": {},
   "outputs": [
    {
     "output_type": "stream",
     "name": "stdout",
     "text": [
      "A    11\nB     1\nName: type, dtype: int64\nA    0.916667\nB    0.083333\nName: type, dtype: float64\n41    12\n30    12\n23    12\n24    12\n25    12\n      ..\n37    10\n48     8\n50     6\n39     4\n43     2\nName: department, Length: 80, dtype: int64\n41    0.012917\n30    0.012917\n23    0.012917\n24    0.012917\n25    0.012917\n        ...   \n37    0.010764\n48    0.008611\n50    0.006459\n39    0.004306\n43    0.002153\nName: department, Length: 80, dtype: float64\n"
     ]
    }
   ],
   "source": [
    "# Count the number of stores of each type\n",
    "store_counts = store_types['type'].value_counts()\n",
    "print(store_counts)\n",
    "\n",
    "# Get the proportion of stores of each type\n",
    "store_props = store_types['type'].value_counts(normalize=True)\n",
    "print(store_props)\n",
    "\n",
    "# Count the number of each department number and sort\n",
    "dept_counts_sorted = store_depts['department'].value_counts(sort=True)\n",
    "print(dept_counts_sorted)\n",
    "\n",
    "# Get the proportion of departments of each number and sort\n",
    "dept_props_sorted = store_depts['department'].value_counts(sort=True, normalize=True)\n",
    "print(dept_props_sorted)"
   ]
  },
  {
   "cell_type": "code",
   "execution_count": 9,
   "metadata": {},
   "outputs": [
    {
     "output_type": "stream",
     "name": "stdout",
     "text": [
      "[0.9097747 0.0902253 0.       ]\n"
     ]
    }
   ],
   "source": [
    "# Calc total weekly sales\n",
    "sales_all = sales[\"weekly_sales\"].sum()\n",
    "\n",
    "# Subset for type A stores, calc total weekly sales\n",
    "sales_A = sales[sales[\"type\"] == \"A\"][\"weekly_sales\"].sum()\n",
    "\n",
    "# Subset for type B stores, calc total weekly sales\n",
    "sales_B = sales[sales[\"type\"] == \"B\"][\"weekly_sales\"].sum()\n",
    "\n",
    "# Subset for type C stores, calc total weekly sales\n",
    "sales_C = sales[sales[\"type\"] == \"C\"][\"weekly_sales\"].sum()\n",
    "\n",
    "# Get proportion for each type\n",
    "sales_propn_by_type = [sales_A, sales_B, sales_C] / sales_all\n",
    "print(sales_propn_by_type)"
   ]
  },
  {
   "cell_type": "code",
   "execution_count": 10,
   "metadata": {},
   "outputs": [
    {
     "output_type": "stream",
     "name": "stdout",
     "text": [
      "type\nA    0.909775\nB    0.090225\nName: weekly_sales, dtype: float64\n"
     ]
    }
   ],
   "source": [
    "# Group by type; calc total weekly sales\n",
    "sales_by_type = sales.groupby(\"type\")[\"weekly_sales\"].sum()\n",
    "\n",
    "# Get proportion for each type\n",
    "sales_propn_by_type = sales_by_type / sum(sales_by_type)\n",
    "print(sales_propn_by_type)"
   ]
  },
  {
   "cell_type": "code",
   "execution_count": 11,
   "metadata": {},
   "outputs": [
    {
     "output_type": "stream",
     "name": "stdout",
     "text": [
      "        amin       amax          mean    median\n",
      "type                                           \n",
      "A    -1098.0  293966.05  23674.667242  11943.92\n",
      "B     -798.0  232558.51  25696.678370  13336.08\n",
      "     unemployment                         fuel_price_usd_per_l            \\\n",
      "             amin   amax      mean median                 amin      amax   \n",
      "type                                                                       \n",
      "A           3.879  8.992  7.972611  8.067             0.664129  1.107410   \n",
      "B           7.170  9.765  9.279323  9.199             0.760023  1.107674   \n",
      "\n",
      "                          \n",
      "          mean    median  \n",
      "type                      \n",
      "A     0.744619  0.735455  \n",
      "B     0.805858  0.803348  \n",
      "<ipython-input-11-15b27655cd81>:11: FutureWarning: Indexing with multiple keys (implicitly converted to a tuple of keys) will be deprecated, use a list instead.\n",
      "  unemp_fuel_stats = sales.groupby(\"type\")[\"unemployment\", \"fuel_price_usd_per_l\"].agg([np.min, np.max, np.mean, np.median])\n"
     ]
    }
   ],
   "source": [
    "# Import numpy with the alias np\n",
    "import numpy as np\n",
    "\n",
    "# For each store type, aggregate weekly_sales: get min, max, mean, and median\n",
    "sales_stats = sales.groupby(\"type\")[\"weekly_sales\"].agg([np.min, np.max, np.mean, np.median])\n",
    "\n",
    "# Print sales_stats\n",
    "print(sales_stats)\n",
    "\n",
    "# For each store type, aggregate unemployment and fuel_price_usd_per_l: get min, max, mean, and median\n",
    "unemp_fuel_stats = sales.groupby(\"type\")[\"unemployment\", \"fuel_price_usd_per_l\"].agg([np.min, np.max, np.mean, np.median])\n",
    "\n",
    "# Print unemp_fuel_stats\n",
    "print(unemp_fuel_stats)"
   ]
  },
  {
   "cell_type": "code",
   "execution_count": 12,
   "metadata": {},
   "outputs": [
    {
     "output_type": "stream",
     "name": "stdout",
     "text": [
      "      weekly_sales\ntype              \nA     23674.667242\nB     25696.678370\n"
     ]
    }
   ],
   "source": [
    "# Pivot for mean weekly_sales for each store type\n",
    "mean_sales_by_type = sales.pivot_table(values=\"weekly_sales\", index=\"type\")\n",
    "\n",
    "# Print mean_sales_by_type\n",
    "print(mean_sales_by_type)"
   ]
  },
  {
   "cell_type": "code",
   "execution_count": 13,
   "metadata": {},
   "outputs": [
    {
     "output_type": "stream",
     "name": "stdout",
     "text": [
      "department            1              2             3             4   \\\ntype                                                                  \nA           30961.725379   67600.158788  17160.002955  44285.399091   \nB           44050.626667  112958.526667  30580.655000  51219.654167   \n\ndepartment            5             6             7             8   \\\ntype                                                                 \nA           34821.011364   7136.292652  38454.336818  48583.475303   \nB           63236.875000  10717.297500  52909.653333  90733.753333   \n\ndepartment            9             10  ...            90            91  \\\ntype                                    ...                               \nA           30120.449924  30930.456364  ...  85776.905909  70423.165227   \nB           66679.301667  48595.126667  ...  14780.210000  13199.602500   \n\ndepartment             92            93            94             95  \\\ntype                                                                   \nA           139722.204773  53413.633939  60081.155303  123933.787121   \nB            50859.278333   1466.274167    161.445833   77082.102500   \n\ndepartment            96            97            98          99  \ntype                                                              \nA           21367.042857  28471.266970  12875.423182  379.123659  \nB            9528.538333   5828.873333    217.428333    0.000000  \n\n[2 rows x 80 columns]\n"
     ]
    }
   ],
   "source": [
    "# Print mean weekly_sales by department and type; fill missing values with 0\n",
    "print(sales.pivot_table(values=\"weekly_sales\", index=\"type\", columns=\"department\", fill_value=0))"
   ]
  },
  {
   "cell_type": "code",
   "execution_count": null,
   "metadata": {},
   "outputs": [],
   "source": []
  }
 ]
}