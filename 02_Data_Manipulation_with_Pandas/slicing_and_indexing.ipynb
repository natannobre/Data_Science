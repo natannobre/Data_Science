{
 "metadata": {
  "language_info": {
   "codemirror_mode": {
    "name": "ipython",
    "version": 3
   },
   "file_extension": ".py",
   "mimetype": "text/x-python",
   "name": "python",
   "nbconvert_exporter": "python",
   "pygments_lexer": "ipython3",
   "version": "3.8.5"
  },
  "orig_nbformat": 2,
  "kernelspec": {
   "name": "python385jvsc74a57bd06a9d193666e13d3b25b51d102bf5ec435779a8e8c05a2ee5783b187e30809c30",
   "display_name": "Python 3.8.5 64-bit ('DataScience': conda)"
  }
 },
 "nbformat": 4,
 "nbformat_minor": 2,
 "cells": [
  {
   "cell_type": "code",
   "execution_count": 2,
   "metadata": {},
   "outputs": [],
   "source": [
    "import pandas as pd"
   ]
  },
  {
   "cell_type": "code",
   "execution_count": 4,
   "metadata": {},
   "outputs": [],
   "source": [
    "temperatures = pd.read_csv(\"datasets/temperatures.csv\")"
   ]
  },
  {
   "cell_type": "code",
   "execution_count": 5,
   "metadata": {},
   "outputs": [
    {
     "output_type": "stream",
     "name": "stdout",
     "text": [
      "       Unnamed: 0        date     city        country  avg_temp_c\n0               0  2000-01-01  Abidjan  Côte D'Ivoire      27.293\n1               1  2000-02-01  Abidjan  Côte D'Ivoire      27.685\n2               2  2000-03-01  Abidjan  Côte D'Ivoire      29.061\n3               3  2000-04-01  Abidjan  Côte D'Ivoire      28.162\n4               4  2000-05-01  Abidjan  Côte D'Ivoire      27.547\n...           ...         ...      ...            ...         ...\n16495       16495  2013-05-01     Xian          China      18.979\n16496       16496  2013-06-01     Xian          China      23.522\n16497       16497  2013-07-01     Xian          China      25.251\n16498       16498  2013-08-01     Xian          China      24.528\n16499       16499  2013-09-01     Xian          China         NaN\n\n[16500 rows x 5 columns]\n         Unnamed: 0        date        country  avg_temp_c\ncity                                                      \nAbidjan           0  2000-01-01  Côte D'Ivoire      27.293\nAbidjan           1  2000-02-01  Côte D'Ivoire      27.685\nAbidjan           2  2000-03-01  Côte D'Ivoire      29.061\nAbidjan           3  2000-04-01  Côte D'Ivoire      28.162\nAbidjan           4  2000-05-01  Côte D'Ivoire      27.547\n...             ...         ...            ...         ...\nXian          16495  2013-05-01          China      18.979\nXian          16496  2013-06-01          China      23.522\nXian          16497  2013-07-01          China      25.251\nXian          16498  2013-08-01          China      24.528\nXian          16499  2013-09-01          China         NaN\n\n[16500 rows x 4 columns]\n          city  Unnamed: 0        date        country  avg_temp_c\n0      Abidjan           0  2000-01-01  Côte D'Ivoire      27.293\n1      Abidjan           1  2000-02-01  Côte D'Ivoire      27.685\n2      Abidjan           2  2000-03-01  Côte D'Ivoire      29.061\n3      Abidjan           3  2000-04-01  Côte D'Ivoire      28.162\n4      Abidjan           4  2000-05-01  Côte D'Ivoire      27.547\n...        ...         ...         ...            ...         ...\n16495     Xian       16495  2013-05-01          China      18.979\n16496     Xian       16496  2013-06-01          China      23.522\n16497     Xian       16497  2013-07-01          China      25.251\n16498     Xian       16498  2013-08-01          China      24.528\n16499     Xian       16499  2013-09-01          China         NaN\n\n[16500 rows x 5 columns]\n       Unnamed: 0        date        country  avg_temp_c\n0               0  2000-01-01  Côte D'Ivoire      27.293\n1               1  2000-02-01  Côte D'Ivoire      27.685\n2               2  2000-03-01  Côte D'Ivoire      29.061\n3               3  2000-04-01  Côte D'Ivoire      28.162\n4               4  2000-05-01  Côte D'Ivoire      27.547\n...           ...         ...            ...         ...\n16495       16495  2013-05-01          China      18.979\n16496       16496  2013-06-01          China      23.522\n16497       16497  2013-07-01          China      25.251\n16498       16498  2013-08-01          China      24.528\n16499       16499  2013-09-01          China         NaN\n\n[16500 rows x 4 columns]\n"
     ]
    }
   ],
   "source": [
    "# Look at temperatures\n",
    "print(temperatures)\n",
    "\n",
    "# Index temperatures by city\n",
    "temperatures_ind = temperatures.set_index(\"city\")\n",
    "\n",
    "# Look at temperatures_ind\n",
    "print(temperatures_ind)\n",
    "\n",
    "# Reset the index, keeping its contents\n",
    "print(temperatures_ind.reset_index())\n",
    "\n",
    "# Reset the index, dropping its contents\n",
    "print(temperatures_ind.reset_index(drop=True))"
   ]
  },
  {
   "cell_type": "code",
   "execution_count": 6,
   "metadata": {},
   "outputs": [
    {
     "output_type": "stream",
     "name": "stdout",
     "text": [
      "       Unnamed: 0        date              city country  avg_temp_c\n10725       10725  2000-01-01            Moscow  Russia      -7.313\n10726       10726  2000-02-01            Moscow  Russia      -3.551\n10727       10727  2000-03-01            Moscow  Russia      -1.661\n10728       10728  2000-04-01            Moscow  Russia      10.096\n10729       10729  2000-05-01            Moscow  Russia      10.357\n...           ...         ...               ...     ...         ...\n13360       13360  2013-05-01  Saint Petersburg  Russia      12.355\n13361       13361  2013-06-01  Saint Petersburg  Russia      17.185\n13362       13362  2013-07-01  Saint Petersburg  Russia      17.234\n13363       13363  2013-08-01  Saint Petersburg  Russia      17.153\n13364       13364  2013-09-01  Saint Petersburg  Russia         NaN\n\n[330 rows x 5 columns]\n                  Unnamed: 0        date country  avg_temp_c\ncity                                                        \nMoscow                 10725  2000-01-01  Russia      -7.313\nMoscow                 10726  2000-02-01  Russia      -3.551\nMoscow                 10727  2000-03-01  Russia      -1.661\nMoscow                 10728  2000-04-01  Russia      10.096\nMoscow                 10729  2000-05-01  Russia      10.357\n...                      ...         ...     ...         ...\nSaint Petersburg       13360  2013-05-01  Russia      12.355\nSaint Petersburg       13361  2013-06-01  Russia      17.185\nSaint Petersburg       13362  2013-07-01  Russia      17.234\nSaint Petersburg       13363  2013-08-01  Russia      17.153\nSaint Petersburg       13364  2013-09-01  Russia         NaN\n\n[330 rows x 4 columns]\n"
     ]
    }
   ],
   "source": [
    "# Make a list of cities to subset on\n",
    "cities = [\"Moscow\", \"Saint Petersburg\"]\n",
    "\n",
    "# Subset temperatures using square brackets\n",
    "print(temperatures[temperatures[\"city\"].isin(cities)])\n",
    "\n",
    "# Subset temperatures_ind using .loc[]\n",
    "print(temperatures_ind.loc[cities])"
   ]
  },
  {
   "cell_type": "code",
   "execution_count": 7,
   "metadata": {},
   "outputs": [
    {
     "output_type": "stream",
     "name": "stdout",
     "text": [
      "                         Unnamed: 0        date  avg_temp_c\ncountry  city                                              \nBrazil   Rio De Janeiro       12540  2000-01-01      25.974\n         Rio De Janeiro       12541  2000-02-01      26.699\n         Rio De Janeiro       12542  2000-03-01      26.270\n         Rio De Janeiro       12543  2000-04-01      25.750\n         Rio De Janeiro       12544  2000-05-01      24.356\n...                             ...         ...         ...\nPakistan Lahore                8575  2013-05-01      33.457\n         Lahore                8576  2013-06-01      34.456\n         Lahore                8577  2013-07-01      33.279\n         Lahore                8578  2013-08-01      31.511\n         Lahore                8579  2013-09-01         NaN\n\n[330 rows x 3 columns]\n"
     ]
    }
   ],
   "source": [
    "# Index temperatures by country & city\n",
    "temperatures_ind = temperatures.set_index([\"country\", \"city\"])\n",
    "\n",
    "# List of tuples: Brazil, Rio De Janeiro & Pakistan, Lahore\n",
    "rows_to_keep = [(\"Brazil\", \"Rio De Janeiro\"),\n",
    "                (\"Pakistan\", \"Lahore\")]\n",
    "\n",
    "# Subset for rows to keep\n",
    "print(temperatures_ind.loc[rows_to_keep])"
   ]
  },
  {
   "cell_type": "code",
   "execution_count": 8,
   "metadata": {},
   "outputs": [
    {
     "output_type": "stream",
     "name": "stdout",
     "text": [
      "                    Unnamed: 0        date  avg_temp_c\ncountry     city                                      \nAfghanistan Kabul         7260  2000-01-01       3.326\n            Kabul         7261  2000-02-01       3.454\n            Kabul         7262  2000-03-01       9.612\n            Kabul         7263  2000-04-01      17.925\n            Kabul         7264  2000-05-01      24.658\n...                        ...         ...         ...\nZimbabwe    Harare        5605  2013-05-01      18.298\n            Harare        5606  2013-06-01      17.020\n            Harare        5607  2013-07-01      16.299\n            Harare        5608  2013-08-01      19.232\n            Harare        5609  2013-09-01         NaN\n\n[16500 rows x 3 columns]\n                       Unnamed: 0        date  avg_temp_c\ncountry       city                                       \nCôte D'Ivoire Abidjan           0  2000-01-01      27.293\n              Abidjan           1  2000-02-01      27.685\n              Abidjan           2  2000-03-01      29.061\n              Abidjan           3  2000-04-01      28.162\n              Abidjan           4  2000-05-01      27.547\n...                           ...         ...         ...\nChina         Xian          16495  2013-05-01      18.979\n              Xian          16496  2013-06-01      23.522\n              Xian          16497  2013-07-01      25.251\n              Xian          16498  2013-08-01      24.528\n              Xian          16499  2013-09-01         NaN\n\n[16500 rows x 3 columns]\n                    Unnamed: 0        date  avg_temp_c\ncountry     city                                      \nAfghanistan Kabul         7260  2000-01-01       3.326\n            Kabul         7261  2000-02-01       3.454\n            Kabul         7262  2000-03-01       9.612\n            Kabul         7263  2000-04-01      17.925\n            Kabul         7264  2000-05-01      24.658\n...                        ...         ...         ...\nZimbabwe    Harare        5605  2013-05-01      18.298\n            Harare        5606  2013-06-01      17.020\n            Harare        5607  2013-07-01      16.299\n            Harare        5608  2013-08-01      19.232\n            Harare        5609  2013-09-01         NaN\n\n[16500 rows x 3 columns]\n"
     ]
    }
   ],
   "source": [
    "# Sort temperatures_ind by index values\n",
    "print(temperatures_ind.sort_index())\n",
    "\n",
    "# Sort temperatures_ind by index values at the city level\n",
    "print(temperatures_ind.sort_index(level=\"city\"))\n",
    "\n",
    "# Sort temperatures_ind by country then descending city\n",
    "print(temperatures_ind.sort_index(level=[\"country\", \"city\"], ascending=[True, False]))"
   ]
  },
  {
   "cell_type": "code",
   "execution_count": 9,
   "metadata": {},
   "outputs": [
    {
     "output_type": "stream",
     "name": "stdout",
     "text": [
      "                           Unnamed: 0        date  avg_temp_c\ncountry  city                                                \nPakistan Faisalabad              4785  2000-01-01      12.792\n         Faisalabad              4786  2000-02-01      14.339\n         Faisalabad              4787  2000-03-01      20.309\n         Faisalabad              4788  2000-04-01      29.072\n         Faisalabad              4789  2000-05-01      34.845\n...                               ...         ...         ...\nRussia   Saint Petersburg       13360  2013-05-01      12.355\n         Saint Petersburg       13361  2013-06-01      17.185\n         Saint Petersburg       13362  2013-07-01      17.234\n         Saint Petersburg       13363  2013-08-01      17.153\n         Saint Petersburg       13364  2013-09-01         NaN\n\n[1155 rows x 3 columns]\n                    Unnamed: 0        date  avg_temp_c\ncountry city                                          \nMexico  Mexico           10230  2000-01-01      12.694\n        Mexico           10231  2000-02-01      14.677\n        Mexico           10232  2000-03-01      17.376\n        Mexico           10233  2000-04-01      18.294\n        Mexico           10234  2000-05-01      18.562\n...                        ...         ...         ...\nMorocco Casablanca        3130  2013-05-01      19.217\n        Casablanca        3131  2013-06-01      23.649\n        Casablanca        3132  2013-07-01      27.488\n        Casablanca        3133  2013-08-01      27.952\n        Casablanca        3134  2013-09-01         NaN\n\n[330 rows x 3 columns]\n                 Unnamed: 0        date  avg_temp_c\ncountry  city                                      \nPakistan Lahore        8415  2000-01-01      12.792\n         Lahore        8416  2000-02-01      14.339\n         Lahore        8417  2000-03-01      20.309\n         Lahore        8418  2000-04-01      29.072\n         Lahore        8419  2000-05-01      34.845\n...                     ...         ...         ...\nRussia   Moscow       10885  2013-05-01      16.152\n         Moscow       10886  2013-06-01      18.718\n         Moscow       10887  2013-07-01      18.136\n         Moscow       10888  2013-08-01      17.485\n         Moscow       10889  2013-09-01         NaN\n\n[660 rows x 3 columns]\n"
     ]
    }
   ],
   "source": [
    "# Sort the index of temperatures_ind\n",
    "temperatures_srt = temperatures_ind.sort_index()\n",
    "\n",
    "# Subset rows from Pakistan to Russia\n",
    "print(temperatures_srt.loc[\"Pakistan\":\"Russia\"])\n",
    "\n",
    "# Try to subset rows from Lahore to Moscow\n",
    "print(temperatures_srt.loc[\"Lahore\":\"Moscow\"])\n",
    "\n",
    "# Subset rows from Pakistan, Lahore to Russia, Moscow\n",
    "print(temperatures_srt.loc[(\"Pakistan\",\"Lahore\"):(\"Russia\",\"Moscow\")])"
   ]
  },
  {
   "cell_type": "code",
   "execution_count": 10,
   "metadata": {},
   "outputs": [
    {
     "output_type": "stream",
     "name": "stdout",
     "text": [
      "                   Unnamed: 0        date  avg_temp_c\ncountry city                                         \nIndia   Hyderabad        5940  2000-01-01      23.779\n        Hyderabad        5941  2000-02-01      25.826\n        Hyderabad        5942  2000-03-01      28.821\n        Hyderabad        5943  2000-04-01      32.698\n        Hyderabad        5944  2000-05-01      32.438\n...                       ...         ...         ...\nIraq    Baghdad          1150  2013-05-01      28.673\n        Baghdad          1151  2013-06-01      33.803\n        Baghdad          1152  2013-07-01      36.392\n        Baghdad          1153  2013-08-01      35.463\n        Baghdad          1154  2013-09-01         NaN\n\n[2145 rows x 3 columns]\n                          date  avg_temp_c\ncountry     city                          \nAfghanistan Kabul   2000-01-01       3.326\n            Kabul   2000-02-01       3.454\n            Kabul   2000-03-01       9.612\n            Kabul   2000-04-01      17.925\n            Kabul   2000-05-01      24.658\n...                        ...         ...\nZimbabwe    Harare  2013-05-01      18.298\n            Harare  2013-06-01      17.020\n            Harare  2013-07-01      16.299\n            Harare  2013-08-01      19.232\n            Harare  2013-09-01         NaN\n\n[16500 rows x 2 columns]\n                         date  avg_temp_c\ncountry city                             \nIndia   Hyderabad  2000-01-01      23.779\n        Hyderabad  2000-02-01      25.826\n        Hyderabad  2000-03-01      28.821\n        Hyderabad  2000-04-01      32.698\n        Hyderabad  2000-05-01      32.438\n...                       ...         ...\nIraq    Baghdad    2013-05-01      28.673\n        Baghdad    2013-06-01      33.803\n        Baghdad    2013-07-01      36.392\n        Baghdad    2013-08-01      35.463\n        Baghdad    2013-09-01         NaN\n\n[2145 rows x 2 columns]\n"
     ]
    }
   ],
   "source": [
    "# Subset rows from India, Hyderabad to Iraq, Baghdad\n",
    "print(temperatures_srt.loc[(\"India\",\"Hyderabad\"):(\"Iraq\",\"Baghdad\")])\n",
    "\n",
    "# Subset columns from date to avg_temp_c\n",
    "print(temperatures_srt.loc[:, \"date\":\"avg_temp_c\"])\n",
    "\n",
    "# Subset in both directions at once\n",
    "print(temperatures_srt.loc[(\"India\",\"Hyderabad\"):(\"Iraq\",\"Baghdad\"), \"date\":\"avg_temp_c\"])"
   ]
  },
  {
   "cell_type": "code",
   "execution_count": 11,
   "metadata": {},
   "outputs": [
    {
     "output_type": "stream",
     "name": "stdout",
     "text": [
      "       Unnamed: 0        date     city        country  avg_temp_c\n120           120  2010-01-01  Abidjan  Côte D'Ivoire      28.270\n121           121  2010-02-01  Abidjan  Côte D'Ivoire      29.262\n122           122  2010-03-01  Abidjan  Côte D'Ivoire      29.596\n123           123  2010-04-01  Abidjan  Côte D'Ivoire      29.068\n124           124  2010-05-01  Abidjan  Côte D'Ivoire      28.258\n...           ...         ...      ...            ...         ...\n16474       16474  2011-08-01     Xian          China      23.069\n16475       16475  2011-09-01     Xian          China      16.775\n16476       16476  2011-10-01     Xian          China      12.587\n16477       16477  2011-11-01     Xian          China       7.543\n16478       16478  2011-12-01     Xian          China      -0.490\n\n[2400 rows x 5 columns]\n            Unnamed: 0        city    country  avg_temp_c\ndate                                                     \n2010-01-01        4905  Faisalabad   Pakistan      11.810\n2010-01-01       10185   Melbourne  Australia      20.016\n2010-01-01        3750   Chongqing      China       7.921\n2010-01-01       13155   São Paulo     Brazil      23.738\n2010-01-01        5400   Guangzhou      China      14.136\n...                ...         ...        ...         ...\n2010-12-01        6896     Jakarta  Indonesia      26.602\n2010-12-01        5246       Gizeh      Egypt      16.530\n2010-12-01       11186      Nagpur      India      19.120\n2010-12-01       14981      Sydney  Australia      19.559\n2010-12-01       13496    Salvador     Brazil      26.265\n\n[1200 rows x 4 columns]\n            Unnamed: 0           city        country  avg_temp_c\ndate                                                            \n2010-08-01        2602       Calcutta          India      30.226\n2010-08-01       12337           Pune          India      24.941\n2010-08-01        6562          Izmir         Turkey      28.352\n2010-08-01       15637        Tianjin          China      25.543\n2010-08-01        9862         Manila    Philippines      27.101\n...                ...            ...            ...         ...\n2011-01-01        4257  Dar Es Salaam       Tanzania      28.541\n2011-01-01       11352        Nairobi          Kenya      17.768\n2011-01-01         297    Addis Abeba       Ethiopia      17.708\n2011-01-01       11517        Nanjing          China       0.144\n2011-01-01       11847       New York  United States      -4.463\n\n[600 rows x 4 columns]\n"
     ]
    }
   ],
   "source": [
    "# Use Boolean conditions to subset temperatures for rows in 2010 and 2011\n",
    "temperatures_bool = temperatures[(temperatures[\"date\"] >= \"2010-01-01\") & (temperatures[\"date\"] <= \"2011-12-31\")]\n",
    "print(temperatures_bool)\n",
    "\n",
    "# Set date as an index and sort the index\n",
    "temperatures_ind = temperatures.set_index(\"date\").sort_index()\n",
    "\n",
    "# Use .loc[] to subset temperatures_ind for rows in 2010 and 2011\n",
    "print(temperatures_ind.loc[\"2010\":\"2011\"])\n",
    "\n",
    "# Use .loc[] to subset temperatures_ind for rows from Aug 2010 to Feb 2011\n",
    "print(temperatures_ind.loc[\"2010-08\":\"2011-02\"])"
   ]
  },
  {
   "cell_type": "code",
   "execution_count": 12,
   "metadata": {},
   "outputs": [
    {
     "output_type": "stream",
     "name": "stdout",
     "text": [
      "2001-11-01\n   Unnamed: 0        date     city        country  avg_temp_c\n0           0  2000-01-01  Abidjan  Côte D'Ivoire      27.293\n1           1  2000-02-01  Abidjan  Côte D'Ivoire      27.685\n2           2  2000-03-01  Abidjan  Côte D'Ivoire      29.061\n3           3  2000-04-01  Abidjan  Côte D'Ivoire      28.162\n4           4  2000-05-01  Abidjan  Côte D'Ivoire      27.547\n          city        country\n0      Abidjan  Côte D'Ivoire\n1      Abidjan  Côte D'Ivoire\n2      Abidjan  Côte D'Ivoire\n3      Abidjan  Côte D'Ivoire\n4      Abidjan  Côte D'Ivoire\n...        ...            ...\n16495     Xian          China\n16496     Xian          China\n16497     Xian          China\n16498     Xian          China\n16499     Xian          China\n\n[16500 rows x 2 columns]\n      city        country\n0  Abidjan  Côte D'Ivoire\n1  Abidjan  Côte D'Ivoire\n2  Abidjan  Côte D'Ivoire\n3  Abidjan  Côte D'Ivoire\n4  Abidjan  Côte D'Ivoire\n"
     ]
    }
   ],
   "source": [
    "# Get 23rd row, 2nd column (index 22, 1)\n",
    "print(temperatures.iloc[22,1])\n",
    "\n",
    "# Use slicing to get the first 5 rows\n",
    "print(temperatures.iloc[:5])\n",
    "\n",
    "# Use slicing to get columns 3 to 4\n",
    "print(temperatures.iloc[:,2:4])\n",
    "\n",
    "# Use slicing in both directions at once\n",
    "print(temperatures.iloc[:5,2:4])"
   ]
  },
  {
   "cell_type": "code",
   "execution_count": 15,
   "metadata": {},
   "outputs": [
    {
     "output_type": "error",
     "ename": "AttributeError",
     "evalue": "Can only use .dt accessor with datetimelike values",
     "traceback": [
      "\u001b[1;31m---------------------------------------------------------------------------\u001b[0m",
      "\u001b[1;31mAttributeError\u001b[0m                            Traceback (most recent call last)",
      "\u001b[1;32m<ipython-input-15-a4bd60002752>\u001b[0m in \u001b[0;36m<module>\u001b[1;34m\u001b[0m\n\u001b[0;32m      1\u001b[0m \u001b[1;31m# Add a year column to temperatures\u001b[0m\u001b[1;33m\u001b[0m\u001b[1;33m\u001b[0m\u001b[1;33m\u001b[0m\u001b[0m\n\u001b[1;32m----> 2\u001b[1;33m \u001b[0mtemperatures\u001b[0m\u001b[1;33m[\u001b[0m\u001b[1;34m\"year\"\u001b[0m\u001b[1;33m]\u001b[0m \u001b[1;33m=\u001b[0m \u001b[0mtemperatures\u001b[0m\u001b[1;33m[\u001b[0m\u001b[1;34m\"date\"\u001b[0m\u001b[1;33m]\u001b[0m\u001b[1;33m.\u001b[0m\u001b[0mdt\u001b[0m\u001b[1;33m.\u001b[0m\u001b[0myear\u001b[0m\u001b[1;33m\u001b[0m\u001b[1;33m\u001b[0m\u001b[0m\n\u001b[0m\u001b[0;32m      3\u001b[0m \u001b[1;33m\u001b[0m\u001b[0m\n\u001b[0;32m      4\u001b[0m \u001b[1;31m# Pivot avg_temp_c by country and city vs year\u001b[0m\u001b[1;33m\u001b[0m\u001b[1;33m\u001b[0m\u001b[1;33m\u001b[0m\u001b[0m\n\u001b[0;32m      5\u001b[0m \u001b[0mtemp_by_country_city_vs_year\u001b[0m \u001b[1;33m=\u001b[0m \u001b[0mtemperatures\u001b[0m\u001b[1;33m.\u001b[0m\u001b[0mpivot_table\u001b[0m\u001b[1;33m(\u001b[0m\u001b[1;34m\"avg_temp_c\"\u001b[0m\u001b[1;33m,\u001b[0m \u001b[0mindex\u001b[0m\u001b[1;33m=\u001b[0m\u001b[1;33m[\u001b[0m\u001b[1;34m\"country\"\u001b[0m\u001b[1;33m,\u001b[0m \u001b[1;34m\"city\"\u001b[0m\u001b[1;33m]\u001b[0m\u001b[1;33m,\u001b[0m \u001b[0mcolumns\u001b[0m\u001b[1;33m=\u001b[0m\u001b[1;34m\"year\"\u001b[0m\u001b[1;33m)\u001b[0m\u001b[1;33m\u001b[0m\u001b[1;33m\u001b[0m\u001b[0m\n",
      "\u001b[1;32m~\\anaconda3\\envs\\DataScience\\lib\\site-packages\\pandas\\core\\generic.py\u001b[0m in \u001b[0;36m__getattr__\u001b[1;34m(self, name)\u001b[0m\n\u001b[0;32m   5135\u001b[0m             \u001b[1;32mor\u001b[0m \u001b[0mname\u001b[0m \u001b[1;32min\u001b[0m \u001b[0mself\u001b[0m\u001b[1;33m.\u001b[0m\u001b[0m_accessors\u001b[0m\u001b[1;33m\u001b[0m\u001b[1;33m\u001b[0m\u001b[0m\n\u001b[0;32m   5136\u001b[0m         ):\n\u001b[1;32m-> 5137\u001b[1;33m             \u001b[1;32mreturn\u001b[0m \u001b[0mobject\u001b[0m\u001b[1;33m.\u001b[0m\u001b[0m__getattribute__\u001b[0m\u001b[1;33m(\u001b[0m\u001b[0mself\u001b[0m\u001b[1;33m,\u001b[0m \u001b[0mname\u001b[0m\u001b[1;33m)\u001b[0m\u001b[1;33m\u001b[0m\u001b[1;33m\u001b[0m\u001b[0m\n\u001b[0m\u001b[0;32m   5138\u001b[0m         \u001b[1;32melse\u001b[0m\u001b[1;33m:\u001b[0m\u001b[1;33m\u001b[0m\u001b[1;33m\u001b[0m\u001b[0m\n\u001b[0;32m   5139\u001b[0m             \u001b[1;32mif\u001b[0m \u001b[0mself\u001b[0m\u001b[1;33m.\u001b[0m\u001b[0m_info_axis\u001b[0m\u001b[1;33m.\u001b[0m\u001b[0m_can_hold_identifiers_and_holds_name\u001b[0m\u001b[1;33m(\u001b[0m\u001b[0mname\u001b[0m\u001b[1;33m)\u001b[0m\u001b[1;33m:\u001b[0m\u001b[1;33m\u001b[0m\u001b[1;33m\u001b[0m\u001b[0m\n",
      "\u001b[1;32m~\\anaconda3\\envs\\DataScience\\lib\\site-packages\\pandas\\core\\accessor.py\u001b[0m in \u001b[0;36m__get__\u001b[1;34m(self, obj, cls)\u001b[0m\n\u001b[0;32m    185\u001b[0m             \u001b[1;31m# we're accessing the attribute of the class, i.e., Dataset.geo\u001b[0m\u001b[1;33m\u001b[0m\u001b[1;33m\u001b[0m\u001b[1;33m\u001b[0m\u001b[0m\n\u001b[0;32m    186\u001b[0m             \u001b[1;32mreturn\u001b[0m \u001b[0mself\u001b[0m\u001b[1;33m.\u001b[0m\u001b[0m_accessor\u001b[0m\u001b[1;33m\u001b[0m\u001b[1;33m\u001b[0m\u001b[0m\n\u001b[1;32m--> 187\u001b[1;33m         \u001b[0maccessor_obj\u001b[0m \u001b[1;33m=\u001b[0m \u001b[0mself\u001b[0m\u001b[1;33m.\u001b[0m\u001b[0m_accessor\u001b[0m\u001b[1;33m(\u001b[0m\u001b[0mobj\u001b[0m\u001b[1;33m)\u001b[0m\u001b[1;33m\u001b[0m\u001b[1;33m\u001b[0m\u001b[0m\n\u001b[0m\u001b[0;32m    188\u001b[0m         \u001b[1;31m# Replace the property with the accessor object. Inspired by:\u001b[0m\u001b[1;33m\u001b[0m\u001b[1;33m\u001b[0m\u001b[1;33m\u001b[0m\u001b[0m\n\u001b[0;32m    189\u001b[0m         \u001b[1;31m# https://www.pydanny.com/cached-property.html\u001b[0m\u001b[1;33m\u001b[0m\u001b[1;33m\u001b[0m\u001b[1;33m\u001b[0m\u001b[0m\n",
      "\u001b[1;32m~\\anaconda3\\envs\\DataScience\\lib\\site-packages\\pandas\\core\\indexes\\accessors.py\u001b[0m in \u001b[0;36m__new__\u001b[1;34m(cls, data)\u001b[0m\n\u001b[0;32m    478\u001b[0m             \u001b[1;32mreturn\u001b[0m \u001b[0mPeriodProperties\u001b[0m\u001b[1;33m(\u001b[0m\u001b[0mdata\u001b[0m\u001b[1;33m,\u001b[0m \u001b[0morig\u001b[0m\u001b[1;33m)\u001b[0m\u001b[1;33m\u001b[0m\u001b[1;33m\u001b[0m\u001b[0m\n\u001b[0;32m    479\u001b[0m \u001b[1;33m\u001b[0m\u001b[0m\n\u001b[1;32m--> 480\u001b[1;33m         \u001b[1;32mraise\u001b[0m \u001b[0mAttributeError\u001b[0m\u001b[1;33m(\u001b[0m\u001b[1;34m\"Can only use .dt accessor with datetimelike values\"\u001b[0m\u001b[1;33m)\u001b[0m\u001b[1;33m\u001b[0m\u001b[1;33m\u001b[0m\u001b[0m\n\u001b[0m",
      "\u001b[1;31mAttributeError\u001b[0m: Can only use .dt accessor with datetimelike values"
     ]
    }
   ],
   "source": [
    "# Add a year column to temperatures\n",
    "temperatures[\"year\"] = temperatures[\"date\"].dt.year\n",
    "\n",
    "# Pivot avg_temp_c by country and city vs year\n",
    "temp_by_country_city_vs_year = temperatures.pivot_table(\"avg_temp_c\", index=[\"country\", \"city\"], columns=\"year\")\n",
    "\n",
    "# See the result\n",
    "print(temp_by_country_city_vs_year)"
   ]
  },
  {
   "cell_type": "code",
   "execution_count": 16,
   "metadata": {},
   "outputs": [
    {
     "output_type": "error",
     "ename": "NameError",
     "evalue": "name 'temp_by_country_city_vs_year' is not defined",
     "traceback": [
      "\u001b[1;31m---------------------------------------------------------------------------\u001b[0m",
      "\u001b[1;31mNameError\u001b[0m                                 Traceback (most recent call last)",
      "\u001b[1;32m<ipython-input-16-56824db646fc>\u001b[0m in \u001b[0;36m<module>\u001b[1;34m\u001b[0m\n\u001b[0;32m      1\u001b[0m \u001b[1;31m# Subset for Egypt to India\u001b[0m\u001b[1;33m\u001b[0m\u001b[1;33m\u001b[0m\u001b[1;33m\u001b[0m\u001b[0m\n\u001b[1;32m----> 2\u001b[1;33m \u001b[0mtemp_by_country_city_vs_year\u001b[0m\u001b[1;33m.\u001b[0m\u001b[0mloc\u001b[0m\u001b[1;33m[\u001b[0m\u001b[1;34m\"Egypt\"\u001b[0m\u001b[1;33m:\u001b[0m\u001b[1;34m\"India\"\u001b[0m\u001b[1;33m]\u001b[0m\u001b[1;33m\u001b[0m\u001b[1;33m\u001b[0m\u001b[0m\n\u001b[0m\u001b[0;32m      3\u001b[0m \u001b[1;33m\u001b[0m\u001b[0m\n\u001b[0;32m      4\u001b[0m \u001b[1;31m# Subset for Egypt, Cairo to India, Delhi\u001b[0m\u001b[1;33m\u001b[0m\u001b[1;33m\u001b[0m\u001b[1;33m\u001b[0m\u001b[0m\n\u001b[0;32m      5\u001b[0m \u001b[0mtemp_by_country_city_vs_year\u001b[0m\u001b[1;33m.\u001b[0m\u001b[0mloc\u001b[0m\u001b[1;33m[\u001b[0m\u001b[1;33m(\u001b[0m\u001b[1;34m\"Egypt\"\u001b[0m\u001b[1;33m,\u001b[0m \u001b[1;34m\"Cairo\"\u001b[0m\u001b[1;33m)\u001b[0m\u001b[1;33m:\u001b[0m\u001b[1;33m(\u001b[0m\u001b[1;34m\"India\"\u001b[0m\u001b[1;33m,\u001b[0m \u001b[1;34m\"Delhi\"\u001b[0m\u001b[1;33m)\u001b[0m\u001b[1;33m]\u001b[0m\u001b[1;33m\u001b[0m\u001b[1;33m\u001b[0m\u001b[0m\n",
      "\u001b[1;31mNameError\u001b[0m: name 'temp_by_country_city_vs_year' is not defined"
     ]
    }
   ],
   "source": [
    "# Subset for Egypt to India\n",
    "temp_by_country_city_vs_year.loc[\"Egypt\":\"India\"]\n",
    "\n",
    "# Subset for Egypt, Cairo to India, Delhi\n",
    "temp_by_country_city_vs_year.loc[(\"Egypt\", \"Cairo\"):(\"India\", \"Delhi\")]\n",
    "\n",
    "# Subset in both directions at once\n",
    "temp_by_country_city_vs_year.loc[(\"Egypt\", \"Cairo\"):(\"India\", \"Delhi\"), \"2005\":\"2010\"]"
   ]
  },
  {
   "cell_type": "code",
   "execution_count": 17,
   "metadata": {},
   "outputs": [
    {
     "output_type": "error",
     "ename": "NameError",
     "evalue": "name 'temp_by_country_city_vs_year' is not defined",
     "traceback": [
      "\u001b[1;31m---------------------------------------------------------------------------\u001b[0m",
      "\u001b[1;31mNameError\u001b[0m                                 Traceback (most recent call last)",
      "\u001b[1;32m<ipython-input-17-394ce54ec92d>\u001b[0m in \u001b[0;36m<module>\u001b[1;34m\u001b[0m\n\u001b[0;32m      1\u001b[0m \u001b[1;31m# Get the worldwide mean temp by year\u001b[0m\u001b[1;33m\u001b[0m\u001b[1;33m\u001b[0m\u001b[1;33m\u001b[0m\u001b[0m\n\u001b[1;32m----> 2\u001b[1;33m \u001b[0mmean_temp_by_year\u001b[0m \u001b[1;33m=\u001b[0m \u001b[0mtemp_by_country_city_vs_year\u001b[0m\u001b[1;33m.\u001b[0m\u001b[0mmean\u001b[0m\u001b[1;33m(\u001b[0m\u001b[0maxis\u001b[0m\u001b[1;33m=\u001b[0m\u001b[1;34m\"rows\"\u001b[0m\u001b[1;33m)\u001b[0m\u001b[1;33m\u001b[0m\u001b[1;33m\u001b[0m\u001b[0m\n\u001b[0m\u001b[0;32m      3\u001b[0m \u001b[1;33m\u001b[0m\u001b[0m\n\u001b[0;32m      4\u001b[0m \u001b[1;31m# Filter for the year that had the highest mean temp\u001b[0m\u001b[1;33m\u001b[0m\u001b[1;33m\u001b[0m\u001b[1;33m\u001b[0m\u001b[0m\n\u001b[0;32m      5\u001b[0m \u001b[0mprint\u001b[0m\u001b[1;33m(\u001b[0m\u001b[0mmean_temp_by_year\u001b[0m\u001b[1;33m[\u001b[0m\u001b[0mmean_temp_by_year\u001b[0m \u001b[1;33m==\u001b[0m \u001b[0mmean_temp_by_year\u001b[0m\u001b[1;33m.\u001b[0m\u001b[0mmax\u001b[0m\u001b[1;33m(\u001b[0m\u001b[1;33m)\u001b[0m\u001b[1;33m]\u001b[0m\u001b[1;33m)\u001b[0m\u001b[1;33m\u001b[0m\u001b[1;33m\u001b[0m\u001b[0m\n",
      "\u001b[1;31mNameError\u001b[0m: name 'temp_by_country_city_vs_year' is not defined"
     ]
    }
   ],
   "source": [
    "# Get the worldwide mean temp by year\n",
    "mean_temp_by_year = temp_by_country_city_vs_year.mean(axis=\"rows\")\n",
    "\n",
    "# Filter for the year that had the highest mean temp\n",
    "print(mean_temp_by_year[mean_temp_by_year == mean_temp_by_year.max()])\n",
    "\n",
    "# Get the mean temp by city\n",
    "mean_temp_by_city = temp_by_country_city_vs_year.mean(axis=\"columns\")\n",
    "mean_temp_by_city\n",
    "\n",
    "# Filter for the city that had the lowest mean temp\n",
    "print(mean_temp_by_city[mean_temp_by_city == mean_temp_by_city.min()])"
   ]
  },
  {
   "cell_type": "code",
   "execution_count": null,
   "metadata": {},
   "outputs": [],
   "source": []
  }
 ]
}